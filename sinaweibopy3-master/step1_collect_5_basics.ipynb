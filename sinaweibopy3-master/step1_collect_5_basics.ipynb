{
 "cells": [
  {
   "cell_type": "code",
   "execution_count": 1,
   "metadata": {},
   "outputs": [],
   "source": [
    "import os\n",
    "import re\n",
    "import pickle\n",
    "import pandas as pd\n",
    "from selenium import webdriver\n",
    "from bs4 import BeautifulSoup"
   ]
  },
  {
   "cell_type": "code",
   "execution_count": 2,
   "metadata": {},
   "outputs": [],
   "source": [
    "from urllib.request import urlopen\n",
    "from io import BytesIO\n",
    "from PIL import Image\n",
    "import colour\n",
    "import numpy as np"
   ]
  },
  {
   "cell_type": "code",
   "execution_count": 3,
   "metadata": {},
   "outputs": [],
   "source": [
    "from selenium.common.exceptions import TimeoutException\n",
    "from selenium.webdriver.support.ui import WebDriverWait\n",
    "from selenium.webdriver.support import expected_conditions as EC\n",
    "from selenium.webdriver.common.by import By"
   ]
  },
  {
   "cell_type": "code",
   "execution_count": 4,
   "metadata": {},
   "outputs": [],
   "source": [
    "cookieFile = \"cookie.pkl\"\n",
    "cookies = None\n",
    "\n",
    "if os.path.exists(cookieFile):\n",
    "    with open(cookieFile, \"rb\") as inFile: cookies = pickle.load(inFile)"
   ]
  },
  {
   "cell_type": "code",
   "execution_count": 5,
   "metadata": {},
   "outputs": [],
   "source": [
    "driver = webdriver.Firefox()\n",
    "if cookies is not None:\n",
    "    driver.get(\"https://weibo.com\")\n",
    "    for co in cookies: driver.add_cookie(co)\n",
    "driver.get(\"https://weibo.com\")\n",
    "# _ = input(\"press ENTER after login to weibo\")"
   ]
  },
  {
   "cell_type": "code",
   "execution_count": 6,
   "metadata": {},
   "outputs": [],
   "source": [
    "# 跳转到搜索“腾讯”官方号\n",
    "driver.get(r\"https://s.weibo.com/user?q=%E8%85%BE%E8%AE%AF&auth=org_vip&page=1\")"
   ]
  },
  {
   "cell_type": "code",
   "execution_count": 7,
   "metadata": {},
   "outputs": [],
   "source": [
    "def wait_for_element(driver, className, timeout=30):\n",
    "    try:\n",
    "        el = EC.presence_of_element_located((By.CLASS_NAME, className))\n",
    "        WebDriverWait(driver, timeout).until(el)\n",
    "    except TimeoutException:\n",
    "        print(\"Timeout\")\n",
    "        return False\n",
    "    finally:\n",
    "        return True"
   ]
  },
  {
   "cell_type": "code",
   "execution_count": 8,
   "metadata": {},
   "outputs": [],
   "source": [
    "def collect_color_temperature(driver):\n",
    "    url = WebDriverWait(driver, 20).until(EC.visibility_of_element_located((By.CSS_SELECTOR, \"body.S_page\"))).value_of_css_property(\"background-image\")\n",
    "    if \"none\" in url: return None\n",
    "    imgurl = re.split('[\"\"]', url)[1]\n",
    "    image = np.array(Image.open(BytesIO(urlopen(imgurl).read())).convert(\"RGB\"))\n",
    "    imageXYZ = np.mean(np.mean((image / 255.0), axis=0), axis=0)\n",
    "    imageXY = colour.XYZ_to_xy(imageXYZ)\n",
    "    CCT = colour.temperature.xy_to_CCT_McCamy1992(imageXY)\n",
    "    return CCT"
   ]
  },
  {
   "cell_type": "code",
   "execution_count": 9,
   "metadata": {},
   "outputs": [],
   "source": [
    "def collect_search(driver, url, num_pages=5):\n",
    "    driver.get(url)\n",
    "    result = []\n",
    "    for i in range(num_pages):\n",
    "        page = []\n",
    "        if not wait_for_element(driver, \"name\"): break\n",
    "        html = driver.page_source\n",
    "        soup = BeautifulSoup(html, \"html.parser\")\n",
    "        for name in soup.select(\"div.info a.name\"):\n",
    "            page.append((name.get_text(), name[\"href\"]))\n",
    "        result.append(page)\n",
    "        try:\n",
    "            nextPageButton = driver.find_element_by_xpath('//a[text()=\"下一页\"]')\n",
    "            nextPageButton.click()\n",
    "        except Exception as e:\n",
    "            print(e)\n",
    "            break\n",
    "    return result"
   ]
  },
  {
   "cell_type": "code",
   "execution_count": 10,
   "metadata": {
    "scrolled": true
   },
   "outputs": [],
   "source": [
    "def collect_save(driver,searchData):\n",
    "    result = []\n",
    "    for page in searchData:\n",
    "        for element in page:\n",
    "            driver.get(\"https:\"+element[1])\n",
    "            if not wait_for_element(driver, \"PCD_counter\"): continue\n",
    "            html = driver.page_source\n",
    "            soup = BeautifulSoup(html, \"html.parser\")\n",
    "            eleThree = soup.select(\"div#plc_main div.PCD_counter td.S_line1\")\n",
    "            if len(eleThree) != 3: continue #确认搜到的是3个element\n",
    "            row = [\n",
    "                element[0], # 名字\n",
    "                \"https:\"+element[1], # url\n",
    "                int(eleThree[0].strong.string), # 关注数\n",
    "                int(eleThree[1].strong.string), # 粉丝数\n",
    "                int(eleThree[2].strong.string), # 微博数\n",
    "                collect_color_temperature(driver) # 色温\n",
    "            ]\n",
    "            result.append(row)\n",
    "    result = pd.DataFrame(result,columns = [\"名字\",\"url\",\"关注数\",\"粉丝数\",\"微博数\",\"色温\"])\n",
    "    return result"
   ]
  },
  {
   "cell_type": "code",
   "execution_count": 11,
   "metadata": {},
   "outputs": [],
   "source": [
    "tmp = collect_search(driver, r\"https://s.weibo.com/user?q=%E8%85%BE%E8%AE%AF&auth=org_vip&page=1\", num_pages=10)"
   ]
  },
  {
   "cell_type": "code",
   "execution_count": 12,
   "metadata": {},
   "outputs": [
    {
     "name": "stdout",
     "output_type": "stream",
     "text": [
      "Timeout\n",
      "Timeout\n",
      "Timeout\n",
      "Timeout\n",
      "Timeout\n",
      "Timeout\n",
      "Timeout\n",
      "Timeout\n",
      "Timeout\n",
      "Timeout\n",
      "Timeout\n",
      "Timeout\n",
      "Timeout\n",
      "Timeout\n",
      "Timeout\n",
      "Timeout\n",
      "Timeout\n",
      "Timeout\n",
      "Timeout\n",
      "Timeout\n",
      "Timeout\n",
      "Timeout\n",
      "Timeout\n",
      "Timeout\n",
      "Timeout\n",
      "Timeout\n",
      "Timeout\n",
      "Timeout\n"
     ]
    }
   ],
   "source": [
    "data = collect_save(driver, tmp)"
   ]
  },
  {
   "cell_type": "code",
   "execution_count": 13,
   "metadata": {},
   "outputs": [],
   "source": [
    "data.to_csv(\"sina.csv\", index=False, encoding='utf-8-sig')"
   ]
  },
  {
   "cell_type": "code",
   "execution_count": 14,
   "metadata": {},
   "outputs": [
    {
     "data": {
      "text/html": [
       "<div>\n",
       "<style scoped>\n",
       "    .dataframe tbody tr th:only-of-type {\n",
       "        vertical-align: middle;\n",
       "    }\n",
       "\n",
       "    .dataframe tbody tr th {\n",
       "        vertical-align: top;\n",
       "    }\n",
       "\n",
       "    .dataframe thead th {\n",
       "        text-align: right;\n",
       "    }\n",
       "</style>\n",
       "<table border=\"1\" class=\"dataframe\">\n",
       "  <thead>\n",
       "    <tr style=\"text-align: right;\">\n",
       "      <th></th>\n",
       "      <th>名字</th>\n",
       "      <th>url</th>\n",
       "      <th>关注数</th>\n",
       "      <th>粉丝数</th>\n",
       "      <th>微博数</th>\n",
       "      <th>色温</th>\n",
       "    </tr>\n",
       "  </thead>\n",
       "  <tbody>\n",
       "    <tr>\n",
       "      <th>0</th>\n",
       "      <td>腾讯视频</td>\n",
       "      <td>https://weibo.com/ilovevideo</td>\n",
       "      <td>3191</td>\n",
       "      <td>14513280</td>\n",
       "      <td>97171</td>\n",
       "      <td>6.006279e+03</td>\n",
       "    </tr>\n",
       "    <tr>\n",
       "      <th>1</th>\n",
       "      <td>腾讯体育</td>\n",
       "      <td>https://weibo.com/tengxuntiyu</td>\n",
       "      <td>391</td>\n",
       "      <td>3357631</td>\n",
       "      <td>48679</td>\n",
       "      <td>2.506354e+03</td>\n",
       "    </tr>\n",
       "    <tr>\n",
       "      <th>2</th>\n",
       "      <td>腾讯微信团队</td>\n",
       "      <td>https://weibo.com/weixinteam</td>\n",
       "      <td>44</td>\n",
       "      <td>576102</td>\n",
       "      <td>1188</td>\n",
       "      <td>NaN</td>\n",
       "    </tr>\n",
       "    <tr>\n",
       "      <th>3</th>\n",
       "      <td>腾讯视频VIP</td>\n",
       "      <td>https://weibo.com/hollywoodtheatre</td>\n",
       "      <td>804</td>\n",
       "      <td>2053315</td>\n",
       "      <td>29705</td>\n",
       "      <td>5.995864e+03</td>\n",
       "    </tr>\n",
       "    <tr>\n",
       "      <th>4</th>\n",
       "      <td>腾讯综艺</td>\n",
       "      <td>https://weibo.com/remendezongyi</td>\n",
       "      <td>1713</td>\n",
       "      <td>4148991</td>\n",
       "      <td>40310</td>\n",
       "      <td>7.063860e+03</td>\n",
       "    </tr>\n",
       "    <tr>\n",
       "      <th>...</th>\n",
       "      <td>...</td>\n",
       "      <td>...</td>\n",
       "      <td>...</td>\n",
       "      <td>...</td>\n",
       "      <td>...</td>\n",
       "      <td>...</td>\n",
       "    </tr>\n",
       "    <tr>\n",
       "      <th>166</th>\n",
       "      <td>腾讯新闻我的时代和我</td>\n",
       "      <td>https://weibo.com/u/6505340726</td>\n",
       "      <td>22</td>\n",
       "      <td>9155</td>\n",
       "      <td>163</td>\n",
       "      <td>5.810269e+03</td>\n",
       "    </tr>\n",
       "    <tr>\n",
       "      <th>167</th>\n",
       "      <td>饭局的诱惑</td>\n",
       "      <td>https://weibo.com/u/5934477397</td>\n",
       "      <td>159</td>\n",
       "      <td>107732</td>\n",
       "      <td>1364</td>\n",
       "      <td>1.756541e+07</td>\n",
       "    </tr>\n",
       "    <tr>\n",
       "      <th>168</th>\n",
       "      <td>极品飞车OL官博</td>\n",
       "      <td>https://weibo.com/u/5896258942</td>\n",
       "      <td>102</td>\n",
       "      <td>75734</td>\n",
       "      <td>729</td>\n",
       "      <td>7.665118e+03</td>\n",
       "    </tr>\n",
       "    <tr>\n",
       "      <th>169</th>\n",
       "      <td>腾讯漫动画</td>\n",
       "      <td>https://weibo.com/u/6863132053</td>\n",
       "      <td>81</td>\n",
       "      <td>57130</td>\n",
       "      <td>627</td>\n",
       "      <td>2.888846e+03</td>\n",
       "    </tr>\n",
       "    <tr>\n",
       "      <th>170</th>\n",
       "      <td>腾讯视频直播</td>\n",
       "      <td>https://weibo.com/u/5792807626</td>\n",
       "      <td>436</td>\n",
       "      <td>25942</td>\n",
       "      <td>1954</td>\n",
       "      <td>NaN</td>\n",
       "    </tr>\n",
       "  </tbody>\n",
       "</table>\n",
       "<p>171 rows × 6 columns</p>\n",
       "</div>"
      ],
      "text/plain": [
       "             名字                                 url   关注数       粉丝数    微博数  \\\n",
       "0          腾讯视频        https://weibo.com/ilovevideo  3191  14513280  97171   \n",
       "1          腾讯体育       https://weibo.com/tengxuntiyu   391   3357631  48679   \n",
       "2        腾讯微信团队        https://weibo.com/weixinteam    44    576102   1188   \n",
       "3       腾讯视频VIP  https://weibo.com/hollywoodtheatre   804   2053315  29705   \n",
       "4          腾讯综艺     https://weibo.com/remendezongyi  1713   4148991  40310   \n",
       "..          ...                                 ...   ...       ...    ...   \n",
       "166  腾讯新闻我的时代和我      https://weibo.com/u/6505340726    22      9155    163   \n",
       "167       饭局的诱惑      https://weibo.com/u/5934477397   159    107732   1364   \n",
       "168    极品飞车OL官博      https://weibo.com/u/5896258942   102     75734    729   \n",
       "169       腾讯漫动画      https://weibo.com/u/6863132053    81     57130    627   \n",
       "170      腾讯视频直播      https://weibo.com/u/5792807626   436     25942   1954   \n",
       "\n",
       "               色温  \n",
       "0    6.006279e+03  \n",
       "1    2.506354e+03  \n",
       "2             NaN  \n",
       "3    5.995864e+03  \n",
       "4    7.063860e+03  \n",
       "..            ...  \n",
       "166  5.810269e+03  \n",
       "167  1.756541e+07  \n",
       "168  7.665118e+03  \n",
       "169  2.888846e+03  \n",
       "170           NaN  \n",
       "\n",
       "[171 rows x 6 columns]"
      ]
     },
     "execution_count": 14,
     "metadata": {},
     "output_type": "execute_result"
    }
   ],
   "source": [
    "data"
   ]
  },
  {
   "cell_type": "code",
   "execution_count": 15,
   "metadata": {},
   "outputs": [],
   "source": [
    "driver.get(\"https://weibo.com\")\n",
    "with open(cookieFile, \"wb\") as outFile:\n",
    "    pickle.dump(driver.get_cookies(), outFile)\n",
    "\n",
    "driver.close()"
   ]
  }
 ],
 "metadata": {
  "kernelspec": {
   "display_name": "Python 3",
   "language": "python",
   "name": "python3"
  },
  "language_info": {
   "codemirror_mode": {
    "name": "ipython",
    "version": 3
   },
   "file_extension": ".py",
   "mimetype": "text/x-python",
   "name": "python",
   "nbconvert_exporter": "python",
   "pygments_lexer": "ipython3",
   "version": "3.8.3"
  }
 },
 "nbformat": 4,
 "nbformat_minor": 4
}

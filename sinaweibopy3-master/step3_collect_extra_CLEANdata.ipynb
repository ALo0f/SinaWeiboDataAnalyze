{
 "cells": [
  {
   "cell_type": "code",
   "execution_count": 1,
   "metadata": {},
   "outputs": [],
   "source": [
    "import os\n",
    "import re\n",
    "import time\n",
    "import pickle\n",
    "import pandas as pd\n",
    "from selenium import webdriver\n",
    "from bs4 import BeautifulSoup"
   ]
  },
  {
   "cell_type": "code",
   "execution_count": 2,
   "metadata": {},
   "outputs": [],
   "source": [
    "from selenium.common.exceptions import TimeoutException\n",
    "from selenium.webdriver.support.ui import WebDriverWait\n",
    "from selenium.webdriver.support import expected_conditions as EC\n",
    "from selenium.webdriver.common.by import By"
   ]
  },
  {
   "cell_type": "code",
   "execution_count": 3,
   "metadata": {},
   "outputs": [],
   "source": [
    "tempfile = pd.read_csv(\"processed4basics.csv\")"
   ]
  },
  {
   "cell_type": "code",
   "execution_count": 4,
   "metadata": {},
   "outputs": [],
   "source": [
    "cookieFile = \"cookie.pkl\"\n",
    "cookies = None\n",
    "\n",
    "if os.path.exists(cookieFile):\n",
    "    with open(cookieFile, \"rb\") as inFile: cookies = pickle.load(inFile)"
   ]
  },
  {
   "cell_type": "code",
   "execution_count": 5,
   "metadata": {},
   "outputs": [],
   "source": [
    "driver = webdriver.Firefox()\n",
    "if cookies is not None:\n",
    "    driver.get(\"https://weibo.com\")\n",
    "    for co in cookies: driver.add_cookie(co)\n",
    "driver.get(\"https://weibo.com\")\n",
    "# _ = input(\"press ENTER after login to weibo\")"
   ]
  },
  {
   "cell_type": "code",
   "execution_count": 6,
   "metadata": {},
   "outputs": [],
   "source": [
    "def wait_for_element(driver, className, timeout=60):\n",
    "    try:\n",
    "        el = EC.presence_of_element_located((By.CLASS_NAME, className))\n",
    "        WebDriverWait(driver, timeout).until(el)\n",
    "    except TimeoutException:\n",
    "        print(\"Timeout\")\n",
    "        return False\n",
    "    finally:\n",
    "        return True"
   ]
  },
  {
   "cell_type": "code",
   "execution_count": 7,
   "metadata": {},
   "outputs": [],
   "source": [
    "def clean_weibo_content(content):\n",
    "    #content = unicodedata.normalize(\"NFKD\", content)\n",
    "    #content = content.replace('\\u200b', ' ').strip()\n",
    "    content = re.sub(r\"[^\\u4e00-\\u9fff0-9a-zA-Z@_]\", \" \", content)\n",
    "    content = re.sub(r\"收起全文\", \" \", content)\n",
    "    content = \" \".join(content.split())\n",
    "    return content"
   ]
  },
  {
   "cell_type": "code",
   "execution_count": 8,
   "metadata": {},
   "outputs": [],
   "source": [
    "def scroll_down(driver):\n",
    "    current_height = driver.execute_script(\"return document.body.scrollHeight\")\n",
    "    while True:\n",
    "        driver.execute_script(\"window.scrollTo(0, document.body.scrollHeight)\")\n",
    "        time.sleep(10)\n",
    "        new_height = driver.execute_script(\"return document.body.scrollHeight\")\n",
    "        if new_height == current_height: break\n",
    "        current_height = new_height"
   ]
  },
  {
   "cell_type": "code",
   "execution_count": 9,
   "metadata": {},
   "outputs": [],
   "source": [
    "def expand_all(driver):\n",
    "    buttons = driver.find_elements_by_css_selector(\"div.WB_frame_c div.WB_detail a.WB_text_opt\")\n",
    "    [button.click() for button in buttons if \"展开全文\" in button.text]\n",
    "    time.sleep(20)"
   ]
  },
  {
   "cell_type": "code",
   "execution_count": 23,
   "metadata": {},
   "outputs": [],
   "source": [
    "def collect_weibo(driver,tempfile):\n",
    "    all_data = []\n",
    "    for a,b in zip(tempfile[\"名字\"], tempfile[\"url\"]):\n",
    "        driver.get(b+\"?is_hot=1\")\n",
    "        if not wait_for_element(driver, \"WB_frame_c\"): continue\n",
    "        if not wait_for_element(driver, \"WB_detail\"): continue\n",
    "        scroll_down(driver)\n",
    "        expand_all(driver)\n",
    "        html = driver.page_source\n",
    "        soup = BeautifulSoup(html, \"html.parser\")\n",
    "        time = [i.get(\"title\") for i in soup.select(\"div.WB_frame_c div.WB_detail div.WB_from a.S_txt2\")[::2]][:40]\n",
    "        content = [clean_weibo_content(i.getText()) for i in soup.select(\"div.WB_frame_c div.WB_detail div.WB_text\") if (i.get(\"style\") is None) or (\"display: none\" not in i.get(\"style\"))][:40]\n",
    "        rewebo = [int(i.getText()) if i.getText().isnumeric() else 0 for i in soup.select(\"div.WB_frame_c div.WB_feed_handle span.line span em\")[3::8]][:40]\n",
    "        comment = [int(i.getText()) if i.getText().isnumeric() else 0 for i in soup.select(\"div.WB_frame_c div.WB_feed_handle span.line span em\")[5::8]][:40]\n",
    "        thumb = [int(i.getText()) if i.getText().isnumeric() else 0 for i in soup.select(\"div.WB_frame_c div.WB_feed_handle span.line span em\")[7::8]][:40]\n",
    "        row = [a,b]\n",
    "        for i in zip(content,time,rewebo,comment,thumb):\n",
    "            row = row + list(i)\n",
    "        all_data.append(row)\n",
    "    label = [\"名字\",\"url\"]\n",
    "    for x in range (40):\n",
    "        label+=[\"内容\"+str(x),\"时间\"+str(x),\"转发\"+str(x),\"评论\"+str(x),\"点赞\"+str(x)]\n",
    "    all_data = pd.DataFrame(all_data,columns = label)\n",
    "    return all_data"
   ]
  },
  {
   "cell_type": "code",
   "execution_count": 25,
   "metadata": {},
   "outputs": [
    {
     "name": "stdout",
     "output_type": "stream",
     "text": [
      "Timeout\n",
      "Timeout\n",
      "Timeout\n",
      "Timeout\n"
     ]
    }
   ],
   "source": [
    "data = collect_weibo(driver,tempfile)"
   ]
  },
  {
   "cell_type": "code",
   "execution_count": 29,
   "metadata": {},
   "outputs": [],
   "source": [
    "data.to_csv(\"sinaCLEANcontent.csv\", index=False, encoding='utf-8-sig')"
   ]
  },
  {
   "cell_type": "code",
   "execution_count": 30,
   "metadata": {},
   "outputs": [],
   "source": [
    "driver.get(\"https://weibo.com\")\n",
    "with open(cookieFile, \"wb\") as outFile:\n",
    "    pickle.dump(driver.get_cookies(), outFile)\n",
    "\n",
    "driver.close()"
   ]
  }
 ],
 "metadata": {
  "kernelspec": {
   "display_name": "Python 3",
   "language": "python",
   "name": "python3"
  },
  "language_info": {
   "codemirror_mode": {
    "name": "ipython",
    "version": 3
   },
   "file_extension": ".py",
   "mimetype": "text/x-python",
   "name": "python",
   "nbconvert_exporter": "python",
   "pygments_lexer": "ipython3",
   "version": "3.8.3"
  }
 },
 "nbformat": 4,
 "nbformat_minor": 4
}

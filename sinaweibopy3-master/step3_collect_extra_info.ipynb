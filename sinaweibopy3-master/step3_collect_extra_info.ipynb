{
 "cells": [
  {
   "cell_type": "code",
   "execution_count": 1,
   "metadata": {},
   "outputs": [],
   "source": [
    "import os\n",
    "import re\n",
    "import pickle\n",
    "import pandas as pd\n",
    "from selenium import webdriver\n",
    "from bs4 import BeautifulSoup"
   ]
  },
  {
   "cell_type": "code",
   "execution_count": 2,
   "metadata": {},
   "outputs": [],
   "source": [
    "from selenium.common.exceptions import TimeoutException\n",
    "from selenium.webdriver.support.ui import WebDriverWait\n",
    "from selenium.webdriver.support import expected_conditions as EC\n",
    "from selenium.webdriver.common.by import By"
   ]
  },
  {
   "cell_type": "code",
   "execution_count": 3,
   "metadata": {},
   "outputs": [],
   "source": [
    "tempfile = pd.read_csv(\"sina.csv\")"
   ]
  },
  {
   "cell_type": "code",
   "execution_count": 4,
   "metadata": {},
   "outputs": [],
   "source": [
    "cookieFile = \"cookie.pkl\"\n",
    "cookies = None\n",
    "\n",
    "if os.path.exists(cookieFile):\n",
    "    with open(cookieFile, \"rb\") as inFile: cookies = pickle.load(inFile)"
   ]
  },
  {
   "cell_type": "code",
   "execution_count": 5,
   "metadata": {},
   "outputs": [],
   "source": [
    "driver = webdriver.Firefox()\n",
    "if cookies is not None:\n",
    "    driver.get(\"https://weibo.com\")\n",
    "    for co in cookies: driver.add_cookie(co)\n",
    "driver.get(\"https://weibo.com\")\n",
    "# _ = input(\"press ENTER after login to weibo\")"
   ]
  },
  {
   "cell_type": "code",
   "execution_count": 6,
   "metadata": {},
   "outputs": [],
   "source": [
    "def wait_for_element(driver, className, timeout=30):\n",
    "    try:\n",
    "        el = EC.presence_of_element_located((By.CLASS_NAME, className))\n",
    "        WebDriverWait(driver, timeout).until(el)\n",
    "    except TimeoutException:\n",
    "        print(\"Timeout\")\n",
    "        return False\n",
    "    finally:\n",
    "        return True"
   ]
  },
  {
   "cell_type": "code",
   "execution_count": 7,
   "metadata": {},
   "outputs": [],
   "source": [
    "def clean_weibo_content(content):\n",
    "    #content = unicodedata.normalize(\"NFKD\", content)\n",
    "    #content = content.replace('\\u200b', ' ').strip()\n",
    "    content = re.sub(r\"[^\\u4e00-\\u9fff0-9a-zA-Z@_]\", \" \", content)\n",
    "    content = \" \".join(content.split())\n",
    "    return content"
   ]
  },
  {
   "cell_type": "code",
   "execution_count": 12,
   "metadata": {},
   "outputs": [],
   "source": [
    "def collect_weibo(driver,tempfile):\n",
    "    all_data = []\n",
    "    for a,b in zip(tempfile[\"名字\"], tempfile[\"url\"]):\n",
    "        driver.get(b+\"?is_hot=1\")\n",
    "        if not wait_for_element(driver, \"WB_frame_c\"): continue\n",
    "        if not wait_for_element(driver, \"WB_detail\"): continue\n",
    "        html = driver.page_source\n",
    "        soup = BeautifulSoup(html, \"html.parser\")\n",
    "        time = [i.get(\"title\") for i in soup.select(\"div.WB_frame_c div.WB_detail a.S_txt2\")[::2]][:10]\n",
    "        content = [clean_weibo_content(i.getText()) for i in soup.select(\"div.WB_frame_c div.WB_detail div.WB_text\")][:10]\n",
    "        rewebo = [int(i.getText()) if i.getText().isnumeric() else 0 for i in soup.select(\"div.WB_frame_c div.WB_feed_handle span.line span em\")[3::8]][:10]\n",
    "        comment = [int(i.getText()) if i.getText().isnumeric() else 0 for i in soup.select(\"div.WB_frame_c div.WB_feed_handle span.line span em\")[5::8]][:10]\n",
    "        thumb = [int(i.getText()) if i.getText().isnumeric() else 0 for i in soup.select(\"div.WB_frame_c div.WB_feed_handle span.line span em\")[7::8]][:10]\n",
    "        row = [a,b]\n",
    "        for i in zip(content,time,rewebo,comment,thumb):\n",
    "            row = row + list(i)\n",
    "        all_data.append(row)\n",
    "    label = [\"名字\",\"url\"]\n",
    "    for x in range (10):\n",
    "        label+=[\"内容\"+str(x),\"时间\"+str(x),\"转发\"+str(x),\"评论\"+str(x),\"点赞\"+str(x)]\n",
    "    all_data = pd.DataFrame(all_data,columns = label)\n",
    "    return all_data"
   ]
  },
  {
   "cell_type": "code",
   "execution_count": 13,
   "metadata": {},
   "outputs": [
    {
     "name": "stdout",
     "output_type": "stream",
     "text": [
      "Timeout\n",
      "Timeout\n"
     ]
    }
   ],
   "source": [
    "data = collect_weibo(driver,tempfile)"
   ]
  },
  {
   "cell_type": "code",
   "execution_count": 15,
   "metadata": {},
   "outputs": [],
   "source": [
    "data.to_csv(\"sinaContent.csv\", index=False, encoding='utf-8-sig')"
   ]
  },
  {
   "cell_type": "code",
   "execution_count": null,
   "metadata": {},
   "outputs": [],
   "source": []
  },
  {
   "cell_type": "code",
   "execution_count": null,
   "metadata": {},
   "outputs": [],
   "source": []
  },
  {
   "cell_type": "code",
   "execution_count": 16,
   "metadata": {},
   "outputs": [],
   "source": [
    "driver.get(\"https://weibo.com\")\n",
    "with open(cookieFile, \"wb\") as outFile:\n",
    "    pickle.dump(driver.get_cookies(), outFile)\n",
    "\n",
    "driver.close()"
   ]
  },
  {
   "cell_type": "code",
   "execution_count": null,
   "metadata": {},
   "outputs": [],
   "source": []
  }
 ],
 "metadata": {
  "kernelspec": {
   "display_name": "Python 3",
   "language": "python",
   "name": "python3"
  },
  "language_info": {
   "codemirror_mode": {
    "name": "ipython",
    "version": 3
   },
   "file_extension": ".py",
   "mimetype": "text/x-python",
   "name": "python",
   "nbconvert_exporter": "python",
   "pygments_lexer": "ipython3",
   "version": "3.8.3"
  }
 },
 "nbformat": 4,
 "nbformat_minor": 4
}

{
 "cells": [
  {
   "cell_type": "code",
   "execution_count": 1,
   "metadata": {},
   "outputs": [],
   "source": [
    "import webbrowser\n",
    "import sinaweibopy3\n",
    "import json"
   ]
  },
  {
   "cell_type": "code",
   "execution_count": 2,
   "metadata": {},
   "outputs": [],
   "source": [
    "#define app key,secret and redirect url\n",
    "APP_KEY = '3461209999'\n",
    "APP_SECRET = '6c98357dd999f3995991e82d8cf0f18c'\n",
    "REDIRECT_URL = 'https://github.com/ALo0f'"
   ]
  },
  {
   "cell_type": "code",
   "execution_count": 3,
   "metadata": {
    "scrolled": true
   },
   "outputs": [
    {
     "name": "stdout",
     "output_type": "stream",
     "text": [
      "https://api.weibo.com/oauth2/authorize?response_type=code&client_id=3461209999&redirect_uri=https://github.com/ALo0f\n"
     ]
    },
    {
     "data": {
      "text/plain": [
       "True"
      ]
     },
     "execution_count": 3,
     "metadata": {},
     "output_type": "execute_result"
    }
   ],
   "source": [
    "#get authorized url\n",
    "client = sinaweibopy3.APIClient(app_key = APP_KEY, app_secret = APP_SECRET,\n",
    "                               redirect_uri = REDIRECT_URL)\n",
    "url = client.get_authorize_url()\n",
    "print(url)\n",
    "webbrowser.open_new(url)"
   ]
  },
  {
   "cell_type": "code",
   "execution_count": 5,
   "metadata": {},
   "outputs": [],
   "source": [
    "result = client.request_access_token(\"baf7f30950d26ab3df6dfaaccdd1dcf6\")\n",
    "client.set_access_token(result.access_token, result.expires_in)"
   ]
  },
  {
   "cell_type": "code",
   "execution_count": 6,
   "metadata": {},
   "outputs": [
    {
     "name": "stdout",
     "output_type": "stream",
     "text": [
      "{\n",
      "  \"statuses\": [],\n",
      "  \"hasvisible\": false,\n",
      "  \"previous_cursor\": 0,\n",
      "  \"next_cursor\": 0,\n",
      "  \"previous_cursor_str\": \"0\",\n",
      "  \"next_cursor_str\": \"0\",\n",
      "  \"total_number\": 0,\n",
      "  \"interval\": 0\n",
      "}\n"
     ]
    }
   ],
   "source": [
    "result=client.public_timeline()\n",
    "print(json.dumps(result,indent=2,ensure_ascii=False))"
   ]
  },
  {
   "cell_type": "code",
   "execution_count": 15,
   "metadata": {},
   "outputs": [
    {
     "name": "stdout",
     "output_type": "stream",
     "text": [
      "{\n",
      "  \"id\": 5766394096,\n",
      "  \"idstr\": \"5766394096\",\n",
      "  \"class\": 1,\n",
      "  \"screen_name\": \"努力加载吧\",\n",
      "  \"name\": \"努力加载吧\",\n",
      "  \"province\": \"31\",\n",
      "  \"city\": \"1000\",\n",
      "  \"location\": \"上海\",\n",
      "  \"description\": \"\",\n",
      "  \"url\": \"\",\n",
      "  \"profile_image_url\": \"https://tva4.sinaimg.cn/crop.0.0.996.996.50/006ifcwojw8fbabrbs1huj30ro0ro76y.jpg?KID=imgbed,tva&Expires=1608536167&ssig=5CkoVwq8Fz\",\n",
      "  \"cover_image_phone\": \"http://ww1.sinaimg.cn/crop.0.0.640.640.640/549d0121tw1egm1kjly3jj20hs0hsq4f.jpg\",\n",
      "  \"profile_url\": \"u/5766394096\",\n",
      "  \"domain\": \"\",\n",
      "  \"weihao\": \"\",\n",
      "  \"gender\": \"m\",\n",
      "  \"followers_count\": 0,\n",
      "  \"friends_count\": 0,\n",
      "  \"pagefriends_count\": 0,\n",
      "  \"statuses_count\": 0,\n",
      "  \"video_status_count\": 0,\n",
      "  \"video_play_count\": 0,\n",
      "  \"favourites_count\": 0,\n",
      "  \"created_at\": \"Fri Nov 20 22:02:18 +0800 2015\",\n",
      "  \"following\": true,\n",
      "  \"allow_all_act_msg\": false,\n",
      "  \"geo_enabled\": true,\n",
      "  \"verified\": false,\n",
      "  \"verified_type\": -1,\n",
      "  \"remark\": \"\",\n",
      "  \"insecurity\": {\n",
      "    \"sexual_content\": false\n",
      "  },\n",
      "  \"status\": {},\n",
      "  \"ptype\": 0,\n",
      "  \"allow_all_comment\": true,\n",
      "  \"avatar_large\": \"https://tva4.sinaimg.cn/crop.0.0.996.996.180/006ifcwojw8fbabrbs1huj30ro0ro76y.jpg?KID=imgbed,tva&Expires=1608536167&ssig=zPXlP4qTDk\",\n",
      "  \"avatar_hd\": \"https://tva4.sinaimg.cn/crop.0.0.996.996.1024/006ifcwojw8fbabrbs1huj30ro0ro76y.jpg?KID=imgbed,tva&Expires=1608536167&ssig=wVyWk0eIQe\",\n",
      "  \"verified_reason\": \"\",\n",
      "  \"verified_trade\": \"\",\n",
      "  \"verified_reason_url\": \"\",\n",
      "  \"verified_source\": \"\",\n",
      "  \"verified_source_url\": \"\",\n",
      "  \"follow_me\": false,\n",
      "  \"like\": false,\n",
      "  \"like_me\": false,\n",
      "  \"online_status\": 0,\n",
      "  \"bi_followers_count\": 2,\n",
      "  \"lang\": \"zh-cn\",\n",
      "  \"star\": 0,\n",
      "  \"mbtype\": 0,\n",
      "  \"mbrank\": 0,\n",
      "  \"block_word\": 0,\n",
      "  \"block_app\": 0,\n",
      "  \"credit_score\": 80,\n",
      "  \"user_ability\": 0,\n",
      "  \"urank\": 9,\n",
      "  \"story_read_state\": -1,\n",
      "  \"vclub_member\": 0,\n",
      "  \"is_teenager\": 0,\n",
      "  \"is_guardian\": 0,\n",
      "  \"is_teenager_list\": 0,\n",
      "  \"pc_new\": 0,\n",
      "  \"special_follow\": false,\n",
      "  \"planet_video\": 0,\n",
      "  \"video_mark\": 0,\n",
      "  \"live_status\": 0\n",
      "}\n"
     ]
    }
   ],
   "source": [
    "result=sinaweibopy3._http_get(\n",
    "    client.api_url+\"users/show.json\",\n",
    "    access_token=client.access_token,\n",
    "    screen_name=\"努力加载吧\"\n",
    ")\n",
    "print(json.dumps(result,indent=2,ensure_ascii=False))"
   ]
  },
  {
   "cell_type": "code",
   "execution_count": 9,
   "metadata": {},
   "outputs": [
    {
     "data": {
      "text/plain": [
       "'zh-cn'"
      ]
     },
     "execution_count": 9,
     "metadata": {},
     "output_type": "execute_result"
    }
   ],
   "source": [
    "result[\"lang\"]"
   ]
  },
  {
   "cell_type": "code",
   "execution_count": null,
   "metadata": {},
   "outputs": [],
   "source": [
    "result=sinaweibopy3._http_get(\n",
    "    client.api_url+\"statuses/count.json\",\n",
    "    access_token=client.access_token,\n",
    "    ids=\"5766394096\"\n",
    ")\n",
    "print(json.dumps(result,indent=2,ensure_ascii=False))\n",
    "\n"
   ]
  }
 ],
 "metadata": {
  "kernelspec": {
   "display_name": "Python 3",
   "language": "python",
   "name": "python3"
  },
  "language_info": {
   "codemirror_mode": {
    "name": "ipython",
    "version": 3
   },
   "file_extension": ".py",
   "mimetype": "text/x-python",
   "name": "python",
   "nbconvert_exporter": "python",
   "pygments_lexer": "ipython3",
   "version": "3.8.3"
  }
 },
 "nbformat": 4,
 "nbformat_minor": 4
}

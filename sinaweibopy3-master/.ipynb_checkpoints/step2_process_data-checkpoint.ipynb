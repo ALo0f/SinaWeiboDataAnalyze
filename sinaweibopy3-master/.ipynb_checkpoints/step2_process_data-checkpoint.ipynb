{
 "cells": [
  {
   "cell_type": "code",
   "execution_count": 1,
   "metadata": {},
   "outputs": [],
   "source": [
    "import pandas as pd\n",
    "import numpy as np\n",
    "import matplotlib.pyplot as plt\n",
    "import seaborn as sns\n",
    "plt.rcParams[\"font.family\"] = \"sans-serif\"\n",
    "plt.rcParams[\"font.sans-serif\"] = [\"Microsoft YaHei\"]"
   ]
  },
  {
   "cell_type": "code",
   "execution_count": 2,
   "metadata": {},
   "outputs": [],
   "source": [
    "tempfile = pd.read_csv(\"sina.csv\")"
   ]
  },
  {
   "cell_type": "code",
   "execution_count": 3,
   "metadata": {},
   "outputs": [
    {
     "data": {
      "text/html": [
       "<div>\n",
       "<style scoped>\n",
       "    .dataframe tbody tr th:only-of-type {\n",
       "        vertical-align: middle;\n",
       "    }\n",
       "\n",
       "    .dataframe tbody tr th {\n",
       "        vertical-align: top;\n",
       "    }\n",
       "\n",
       "    .dataframe thead th {\n",
       "        text-align: right;\n",
       "    }\n",
       "</style>\n",
       "<table border=\"1\" class=\"dataframe\">\n",
       "  <thead>\n",
       "    <tr style=\"text-align: right;\">\n",
       "      <th></th>\n",
       "      <th>名字</th>\n",
       "      <th>url</th>\n",
       "      <th>关注数</th>\n",
       "      <th>粉丝数</th>\n",
       "      <th>微博数</th>\n",
       "      <th>色温</th>\n",
       "    </tr>\n",
       "  </thead>\n",
       "  <tbody>\n",
       "    <tr>\n",
       "      <th>0</th>\n",
       "      <td>腾讯视频</td>\n",
       "      <td>https://weibo.com/ilovevideo</td>\n",
       "      <td>3191</td>\n",
       "      <td>14513280</td>\n",
       "      <td>97171</td>\n",
       "      <td>6.006279e+03</td>\n",
       "    </tr>\n",
       "    <tr>\n",
       "      <th>1</th>\n",
       "      <td>腾讯体育</td>\n",
       "      <td>https://weibo.com/tengxuntiyu</td>\n",
       "      <td>391</td>\n",
       "      <td>3357631</td>\n",
       "      <td>48679</td>\n",
       "      <td>2.506354e+03</td>\n",
       "    </tr>\n",
       "    <tr>\n",
       "      <th>2</th>\n",
       "      <td>腾讯微信团队</td>\n",
       "      <td>https://weibo.com/weixinteam</td>\n",
       "      <td>44</td>\n",
       "      <td>576102</td>\n",
       "      <td>1188</td>\n",
       "      <td>NaN</td>\n",
       "    </tr>\n",
       "    <tr>\n",
       "      <th>3</th>\n",
       "      <td>腾讯视频VIP</td>\n",
       "      <td>https://weibo.com/hollywoodtheatre</td>\n",
       "      <td>804</td>\n",
       "      <td>2053315</td>\n",
       "      <td>29705</td>\n",
       "      <td>5.995864e+03</td>\n",
       "    </tr>\n",
       "    <tr>\n",
       "      <th>4</th>\n",
       "      <td>腾讯综艺</td>\n",
       "      <td>https://weibo.com/remendezongyi</td>\n",
       "      <td>1713</td>\n",
       "      <td>4148991</td>\n",
       "      <td>40310</td>\n",
       "      <td>7.063860e+03</td>\n",
       "    </tr>\n",
       "    <tr>\n",
       "      <th>...</th>\n",
       "      <td>...</td>\n",
       "      <td>...</td>\n",
       "      <td>...</td>\n",
       "      <td>...</td>\n",
       "      <td>...</td>\n",
       "      <td>...</td>\n",
       "    </tr>\n",
       "    <tr>\n",
       "      <th>166</th>\n",
       "      <td>腾讯新闻我的时代和我</td>\n",
       "      <td>https://weibo.com/u/6505340726</td>\n",
       "      <td>22</td>\n",
       "      <td>9155</td>\n",
       "      <td>163</td>\n",
       "      <td>5.810269e+03</td>\n",
       "    </tr>\n",
       "    <tr>\n",
       "      <th>167</th>\n",
       "      <td>饭局的诱惑</td>\n",
       "      <td>https://weibo.com/u/5934477397</td>\n",
       "      <td>159</td>\n",
       "      <td>107732</td>\n",
       "      <td>1364</td>\n",
       "      <td>1.756541e+07</td>\n",
       "    </tr>\n",
       "    <tr>\n",
       "      <th>168</th>\n",
       "      <td>极品飞车OL官博</td>\n",
       "      <td>https://weibo.com/u/5896258942</td>\n",
       "      <td>102</td>\n",
       "      <td>75734</td>\n",
       "      <td>729</td>\n",
       "      <td>7.665118e+03</td>\n",
       "    </tr>\n",
       "    <tr>\n",
       "      <th>169</th>\n",
       "      <td>腾讯漫动画</td>\n",
       "      <td>https://weibo.com/u/6863132053</td>\n",
       "      <td>81</td>\n",
       "      <td>57130</td>\n",
       "      <td>627</td>\n",
       "      <td>2.888846e+03</td>\n",
       "    </tr>\n",
       "    <tr>\n",
       "      <th>170</th>\n",
       "      <td>腾讯视频直播</td>\n",
       "      <td>https://weibo.com/u/5792807626</td>\n",
       "      <td>436</td>\n",
       "      <td>25942</td>\n",
       "      <td>1954</td>\n",
       "      <td>NaN</td>\n",
       "    </tr>\n",
       "  </tbody>\n",
       "</table>\n",
       "<p>171 rows × 6 columns</p>\n",
       "</div>"
      ],
      "text/plain": [
       "             名字                                 url   关注数       粉丝数    微博数  \\\n",
       "0          腾讯视频        https://weibo.com/ilovevideo  3191  14513280  97171   \n",
       "1          腾讯体育       https://weibo.com/tengxuntiyu   391   3357631  48679   \n",
       "2        腾讯微信团队        https://weibo.com/weixinteam    44    576102   1188   \n",
       "3       腾讯视频VIP  https://weibo.com/hollywoodtheatre   804   2053315  29705   \n",
       "4          腾讯综艺     https://weibo.com/remendezongyi  1713   4148991  40310   \n",
       "..          ...                                 ...   ...       ...    ...   \n",
       "166  腾讯新闻我的时代和我      https://weibo.com/u/6505340726    22      9155    163   \n",
       "167       饭局的诱惑      https://weibo.com/u/5934477397   159    107732   1364   \n",
       "168    极品飞车OL官博      https://weibo.com/u/5896258942   102     75734    729   \n",
       "169       腾讯漫动画      https://weibo.com/u/6863132053    81     57130    627   \n",
       "170      腾讯视频直播      https://weibo.com/u/5792807626   436     25942   1954   \n",
       "\n",
       "               色温  \n",
       "0    6.006279e+03  \n",
       "1    2.506354e+03  \n",
       "2             NaN  \n",
       "3    5.995864e+03  \n",
       "4    7.063860e+03  \n",
       "..            ...  \n",
       "166  5.810269e+03  \n",
       "167  1.756541e+07  \n",
       "168  7.665118e+03  \n",
       "169  2.888846e+03  \n",
       "170           NaN  \n",
       "\n",
       "[171 rows x 6 columns]"
      ]
     },
     "execution_count": 3,
     "metadata": {},
     "output_type": "execute_result"
    }
   ],
   "source": [
    "tempfile"
   ]
  },
  {
   "cell_type": "code",
   "execution_count": 4,
   "metadata": {
    "scrolled": false
   },
   "outputs": [
    {
     "data": {
      "text/html": [
       "<div>\n",
       "<style scoped>\n",
       "    .dataframe tbody tr th:only-of-type {\n",
       "        vertical-align: middle;\n",
       "    }\n",
       "\n",
       "    .dataframe tbody tr th {\n",
       "        vertical-align: top;\n",
       "    }\n",
       "\n",
       "    .dataframe thead th {\n",
       "        text-align: right;\n",
       "    }\n",
       "</style>\n",
       "<table border=\"1\" class=\"dataframe\">\n",
       "  <thead>\n",
       "    <tr style=\"text-align: right;\">\n",
       "      <th></th>\n",
       "      <th>名字</th>\n",
       "      <th>url</th>\n",
       "      <th>关注数</th>\n",
       "      <th>粉丝数</th>\n",
       "      <th>微博数</th>\n",
       "      <th>色温</th>\n",
       "    </tr>\n",
       "  </thead>\n",
       "  <tbody>\n",
       "    <tr>\n",
       "      <th>0</th>\n",
       "      <td>腾讯视频</td>\n",
       "      <td>https://weibo.com/ilovevideo</td>\n",
       "      <td>3191</td>\n",
       "      <td>14513280</td>\n",
       "      <td>97171</td>\n",
       "      <td>6.006279e+03</td>\n",
       "    </tr>\n",
       "    <tr>\n",
       "      <th>1</th>\n",
       "      <td>腾讯体育</td>\n",
       "      <td>https://weibo.com/tengxuntiyu</td>\n",
       "      <td>391</td>\n",
       "      <td>3357631</td>\n",
       "      <td>48679</td>\n",
       "      <td>2.506354e+03</td>\n",
       "    </tr>\n",
       "    <tr>\n",
       "      <th>3</th>\n",
       "      <td>腾讯视频VIP</td>\n",
       "      <td>https://weibo.com/hollywoodtheatre</td>\n",
       "      <td>804</td>\n",
       "      <td>2053315</td>\n",
       "      <td>29705</td>\n",
       "      <td>5.995864e+03</td>\n",
       "    </tr>\n",
       "    <tr>\n",
       "      <th>4</th>\n",
       "      <td>腾讯综艺</td>\n",
       "      <td>https://weibo.com/remendezongyi</td>\n",
       "      <td>1713</td>\n",
       "      <td>4148991</td>\n",
       "      <td>40310</td>\n",
       "      <td>7.063860e+03</td>\n",
       "    </tr>\n",
       "    <tr>\n",
       "      <th>5</th>\n",
       "      <td>腾讯微视</td>\n",
       "      <td>https://weibo.com/u/6479255096</td>\n",
       "      <td>1340</td>\n",
       "      <td>1754238</td>\n",
       "      <td>14023</td>\n",
       "      <td>1.089579e+04</td>\n",
       "    </tr>\n",
       "    <tr>\n",
       "      <th>...</th>\n",
       "      <td>...</td>\n",
       "      <td>...</td>\n",
       "      <td>...</td>\n",
       "      <td>...</td>\n",
       "      <td>...</td>\n",
       "      <td>...</td>\n",
       "    </tr>\n",
       "    <tr>\n",
       "      <th>165</th>\n",
       "      <td>腾讯QQ同步助手</td>\n",
       "      <td>https://weibo.com/qqpim</td>\n",
       "      <td>77</td>\n",
       "      <td>75062</td>\n",
       "      <td>719</td>\n",
       "      <td>9.591903e+03</td>\n",
       "    </tr>\n",
       "    <tr>\n",
       "      <th>166</th>\n",
       "      <td>腾讯新闻我的时代和我</td>\n",
       "      <td>https://weibo.com/u/6505340726</td>\n",
       "      <td>22</td>\n",
       "      <td>9155</td>\n",
       "      <td>163</td>\n",
       "      <td>5.810269e+03</td>\n",
       "    </tr>\n",
       "    <tr>\n",
       "      <th>167</th>\n",
       "      <td>饭局的诱惑</td>\n",
       "      <td>https://weibo.com/u/5934477397</td>\n",
       "      <td>159</td>\n",
       "      <td>107732</td>\n",
       "      <td>1364</td>\n",
       "      <td>1.756541e+07</td>\n",
       "    </tr>\n",
       "    <tr>\n",
       "      <th>168</th>\n",
       "      <td>极品飞车OL官博</td>\n",
       "      <td>https://weibo.com/u/5896258942</td>\n",
       "      <td>102</td>\n",
       "      <td>75734</td>\n",
       "      <td>729</td>\n",
       "      <td>7.665118e+03</td>\n",
       "    </tr>\n",
       "    <tr>\n",
       "      <th>169</th>\n",
       "      <td>腾讯漫动画</td>\n",
       "      <td>https://weibo.com/u/6863132053</td>\n",
       "      <td>81</td>\n",
       "      <td>57130</td>\n",
       "      <td>627</td>\n",
       "      <td>2.888846e+03</td>\n",
       "    </tr>\n",
       "  </tbody>\n",
       "</table>\n",
       "<p>155 rows × 6 columns</p>\n",
       "</div>"
      ],
      "text/plain": [
       "             名字                                 url   关注数       粉丝数    微博数  \\\n",
       "0          腾讯视频        https://weibo.com/ilovevideo  3191  14513280  97171   \n",
       "1          腾讯体育       https://weibo.com/tengxuntiyu   391   3357631  48679   \n",
       "3       腾讯视频VIP  https://weibo.com/hollywoodtheatre   804   2053315  29705   \n",
       "4          腾讯综艺     https://weibo.com/remendezongyi  1713   4148991  40310   \n",
       "5          腾讯微视      https://weibo.com/u/6479255096  1340   1754238  14023   \n",
       "..          ...                                 ...   ...       ...    ...   \n",
       "165    腾讯QQ同步助手             https://weibo.com/qqpim    77     75062    719   \n",
       "166  腾讯新闻我的时代和我      https://weibo.com/u/6505340726    22      9155    163   \n",
       "167       饭局的诱惑      https://weibo.com/u/5934477397   159    107732   1364   \n",
       "168    极品飞车OL官博      https://weibo.com/u/5896258942   102     75734    729   \n",
       "169       腾讯漫动画      https://weibo.com/u/6863132053    81     57130    627   \n",
       "\n",
       "               色温  \n",
       "0    6.006279e+03  \n",
       "1    2.506354e+03  \n",
       "3    5.995864e+03  \n",
       "4    7.063860e+03  \n",
       "5    1.089579e+04  \n",
       "..            ...  \n",
       "165  9.591903e+03  \n",
       "166  5.810269e+03  \n",
       "167  1.756541e+07  \n",
       "168  7.665118e+03  \n",
       "169  2.888846e+03  \n",
       "\n",
       "[155 rows x 6 columns]"
      ]
     },
     "execution_count": 4,
     "metadata": {},
     "output_type": "execute_result"
    }
   ],
   "source": [
    "tempfile.dropna(inplace=True)\n",
    "tempfile"
   ]
  },
  {
   "cell_type": "code",
   "execution_count": 5,
   "metadata": {},
   "outputs": [],
   "source": [
    "tempfile[\"色温\"] = tempfile[\"色温\"][tempfile[\"色温\"] > 0]\n",
    "tempfile[\"色温\"] = tempfile[\"色温\"][tempfile[\"色温\"] < 1e4]"
   ]
  },
  {
   "cell_type": "code",
   "execution_count": 6,
   "metadata": {},
   "outputs": [
    {
     "data": {
      "image/png": "[encoded data removed]",
      "text/plain": [
       "<Figure size 576x576 with 1 Axes>"
      ]
     },
     "metadata": {
      "needs_background": "light"
     },
     "output_type": "display_data"
    }
   ],
   "source": [
    "plt.figure(figsize=(8,8))\n",
    "plt.scatter(tempfile[\"粉丝数\"].to_numpy(), tempfile[\"色温\"].to_numpy())\n",
    "plt.xlabel(\"粉丝数\")\n",
    "plt.ylabel(\"色温\")\n",
    "plt.show()"
   ]
  },
  {
   "cell_type": "code",
   "execution_count": 7,
   "metadata": {},
   "outputs": [
    {
     "data": {
      "text/plain": [
       "<matplotlib.axes._subplots.AxesSubplot at 0x23bbbe06d60>"
      ]
     },
     "execution_count": 7,
     "metadata": {},
     "output_type": "execute_result"
    },
    {
     "data": {
      "image/png": "[encoded data removed]",
      "text/plain": [
       "<Figure size 432x288 with 2 Axes>"
      ]
     },
     "metadata": {
      "needs_background": "light"
     },
     "output_type": "display_data"
    }
   ],
   "source": [
    "sns.heatmap(tempfile.corr())"
   ]
  },
  {
   "cell_type": "code",
   "execution_count": 8,
   "metadata": {},
   "outputs": [
    {
     "data": {
      "text/html": [
       "<div>\n",
       "<style scoped>\n",
       "    .dataframe tbody tr th:only-of-type {\n",
       "        vertical-align: middle;\n",
       "    }\n",
       "\n",
       "    .dataframe tbody tr th {\n",
       "        vertical-align: top;\n",
       "    }\n",
       "\n",
       "    .dataframe thead th {\n",
       "        text-align: right;\n",
       "    }\n",
       "</style>\n",
       "<table border=\"1\" class=\"dataframe\">\n",
       "  <thead>\n",
       "    <tr style=\"text-align: right;\">\n",
       "      <th></th>\n",
       "      <th>关注数</th>\n",
       "      <th>粉丝数</th>\n",
       "      <th>微博数</th>\n",
       "      <th>色温</th>\n",
       "    </tr>\n",
       "  </thead>\n",
       "  <tbody>\n",
       "    <tr>\n",
       "      <th>关注数</th>\n",
       "      <td>1.000000</td>\n",
       "      <td>0.731478</td>\n",
       "      <td>0.797176</td>\n",
       "      <td>-0.046285</td>\n",
       "    </tr>\n",
       "    <tr>\n",
       "      <th>粉丝数</th>\n",
       "      <td>0.731478</td>\n",
       "      <td>1.000000</td>\n",
       "      <td>0.854320</td>\n",
       "      <td>-0.103131</td>\n",
       "    </tr>\n",
       "    <tr>\n",
       "      <th>微博数</th>\n",
       "      <td>0.797176</td>\n",
       "      <td>0.854320</td>\n",
       "      <td>1.000000</td>\n",
       "      <td>-0.057222</td>\n",
       "    </tr>\n",
       "    <tr>\n",
       "      <th>色温</th>\n",
       "      <td>-0.046285</td>\n",
       "      <td>-0.103131</td>\n",
       "      <td>-0.057222</td>\n",
       "      <td>1.000000</td>\n",
       "    </tr>\n",
       "  </tbody>\n",
       "</table>\n",
       "</div>"
      ],
      "text/plain": [
       "          关注数       粉丝数       微博数        色温\n",
       "关注数  1.000000  0.731478  0.797176 -0.046285\n",
       "粉丝数  0.731478  1.000000  0.854320 -0.103131\n",
       "微博数  0.797176  0.854320  1.000000 -0.057222\n",
       "色温  -0.046285 -0.103131 -0.057222  1.000000"
      ]
     },
     "execution_count": 8,
     "metadata": {},
     "output_type": "execute_result"
    }
   ],
   "source": [
    "tempfile.corr()"
   ]
  },
  {
   "cell_type": "code",
   "execution_count": 9,
   "metadata": {},
   "outputs": [
    {
     "data": {
      "image/png": "[encoded data removed]",
      "text/plain": [
       "<Figure size 576x576 with 1 Axes>"
      ]
     },
     "metadata": {
      "needs_background": "light"
     },
     "output_type": "display_data"
    }
   ],
   "source": [
    "plt.figure(figsize=(8,8))\n",
    "plt.scatter(tempfile[\"微博数\"].to_numpy(), tempfile[\"粉丝数\"].to_numpy())\n",
    "plt.xlabel(\"微博数\")\n",
    "plt.ylabel(\"粉丝数\")\n",
    "plt.show()"
   ]
  },
  {
   "cell_type": "code",
   "execution_count": 10,
   "metadata": {},
   "outputs": [
    {
     "data": {
      "text/plain": [
       "<matplotlib.axes._subplots.AxesSubplot at 0x23bbbeb9af0>"
      ]
     },
     "execution_count": 10,
     "metadata": {},
     "output_type": "execute_result"
    },
    {
     "data": {
      "image/png": "[encoded data removed]",
      "text/plain": [
       "<Figure size 432x288 with 1 Axes>"
      ]
     },
     "metadata": {
      "needs_background": "light"
     },
     "output_type": "display_data"
    }
   ],
   "source": [
    "plt.figure(figsize=(8,8))\n",
    "sns.regplot(x = \"微博数\",  \n",
    "            y = \"粉丝数\",  \n",
    "            data = tempfile) "
   ]
  }
 ],
 "metadata": {
  "kernelspec": {
   "display_name": "Python 3",
   "language": "python",
   "name": "python3"
  },
  "language_info": {
   "codemirror_mode": {
    "name": "ipython",
    "version": 3
   },
   "file_extension": ".py",
   "mimetype": "text/x-python",
   "name": "python",
   "nbconvert_exporter": "python",
   "pygments_lexer": "ipython3",
   "version": "3.8.3"
  }
 },
 "nbformat": 4,
 "nbformat_minor": 4
}

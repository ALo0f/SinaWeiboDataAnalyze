{
 "cells": [
  {
   "cell_type": "code",
   "execution_count": 1,
   "metadata": {},
   "outputs": [],
   "source": [
    "import os\n",
    "import re\n",
    "import time\n",
    "import pickle\n",
    "import pandas as pd\n",
    "from selenium import webdriver\n",
    "from bs4 import BeautifulSoup"
   ]
  },
  {
   "cell_type": "code",
   "execution_count": 2,
   "metadata": {},
   "outputs": [],
   "source": [
    "from selenium.common.exceptions import TimeoutException\n",
    "from selenium.webdriver.support.ui import WebDriverWait\n",
    "from selenium.webdriver.support import expected_conditions as EC\n",
    "from selenium.webdriver.common.by import By"
   ]
  },
  {
   "cell_type": "code",
   "execution_count": 3,
   "metadata": {},
   "outputs": [],
   "source": [
    "tempfile = pd.read_csv(\"processed4basics.csv\")"
   ]
  },
  {
   "cell_type": "code",
   "execution_count": 4,
   "metadata": {},
   "outputs": [],
   "source": [
    "cookieFile = \"cookie.pkl\"\n",
    "cookies = None\n",
    "\n",
    "if os.path.exists(cookieFile):\n",
    "    with open(cookieFile, \"rb\") as inFile: cookies = pickle.load(inFile)"
   ]
  },
  {
   "cell_type": "code",
   "execution_count": 5,
   "metadata": {},
   "outputs": [],
   "source": [
    "driver = webdriver.Firefox()\n",
    "if cookies is not None:\n",
    "    driver.get(\"https://weibo.com\")\n",
    "    for co in cookies: driver.add_cookie(co)\n",
    "driver.get(\"https://weibo.com\")\n",
    "# _ = input(\"press ENTER after login to weibo\")"
   ]
  },
  {
   "cell_type": "code",
   "execution_count": 6,
   "metadata": {},
   "outputs": [],
   "source": [
    "def wait_for_element(driver, className, timeout=60):\n",
    "    try:\n",
    "        el = EC.presence_of_element_located((By.CLASS_NAME, className))\n",
    "        WebDriverWait(driver, timeout).until(el)\n",
    "    except TimeoutException:\n",
    "        print(\"Timeout\")\n",
    "        return False\n",
    "    finally:\n",
    "        return True"
   ]
  },
  {
   "cell_type": "code",
   "execution_count": 7,
   "metadata": {},
   "outputs": [],
   "source": [
    "def clean_weibo_content(content):\n",
    "    #content = unicodedata.normalize(\"NFKD\", content)\n",
    "    #content = content.replace('\\u200b', ' ').strip()\n",
    "    content = re.sub(r\"[^\\u4e00-\\u9fff0-9a-zA-Z@_]\", \" \", content)\n",
    "    content = re.sub(r\"收起全文\", \" \", content)\n",
    "    content = \" \".join(content.split())\n",
    "    return content"
   ]
  },
  {
   "cell_type": "code",
   "execution_count": 8,
   "metadata": {},
   "outputs": [],
   "source": [
    "def scroll_down(driver):\n",
    "    current_height = driver.execute_script(\"return document.body.scrollHeight\")\n",
    "    while True:\n",
    "        driver.execute_script(\"window.scrollTo(0, document.body.scrollHeight)\")\n",
    "        time.sleep(10)\n",
    "        new_height = driver.execute_script(\"return document.body.scrollHeight\")\n",
    "        if new_height == current_height: break\n",
    "        current_height = new_height"
   ]
  },
  {
   "cell_type": "code",
   "execution_count": 9,
   "metadata": {},
   "outputs": [],
   "source": [
    "def expand_all(driver):\n",
    "    buttons = driver.find_elements_by_css_selector(\"div.WB_frame_c div.WB_detail a.WB_text_opt\")\n",
    "    [button.click() for button in buttons if \"展开全文\" in button.text]\n",
    "    time.sleep(20)"
   ]
  },
  {
   "cell_type": "code",
   "execution_count": 23,
   "metadata": {},
   "outputs": [],
   "source": [
    "def collect_weibo(driver,tempfile):\n",
    "    all_data = []\n",
    "    for a,b in zip(tempfile[\"名字\"], tempfile[\"url\"]):\n",
    "        driver.get(b+\"?is_hot=1\")\n",
    "        if not wait_for_element(driver, \"WB_frame_c\"): continue\n",
    "        if not wait_for_element(driver, \"WB_detail\"): continue\n",
    "        scroll_down(driver)\n",
    "        expand_all(driver)\n",
    "        html = driver.page_source\n",
    "        soup = BeautifulSoup(html, \"html.parser\")\n",
    "        time = [i.get(\"title\") for i in soup.select(\"div.WB_frame_c div.WB_detail div.WB_from a.S_txt2\")[::2]][:40]\n",
    "        content = [clean_weibo_content(i.getText()) for i in soup.select(\"div.WB_frame_c div.WB_detail div.WB_text\") if (i.get(\"style\") is None) or (\"display: none\" not in i.get(\"style\"))][:40]\n",
    "        rewebo = [int(i.getText()) if i.getText().isnumeric() else 0 for i in soup.select(\"div.WB_frame_c div.WB_feed_handle span.line span em\")[3::8]][:40]\n",
    "        comment = [int(i.getText()) if i.getText().isnumeric() else 0 for i in soup.select(\"div.WB_frame_c div.WB_feed_handle span.line span em\")[5::8]][:40]\n",
    "        thumb = [int(i.getText()) if i.getText().isnumeric() else 0 for i in soup.select(\"div.WB_frame_c div.WB_feed_handle span.line span em\")[7::8]][:40]\n",
    "        row = [a,b]\n",
    "        for i in zip(content,time,rewebo,comment,thumb):\n",
    "            row = row + list(i)\n",
    "        all_data.append(row)\n",
    "    label = [\"名字\",\"url\"]\n",
    "    for x in range (40):\n",
    "        label+=[\"内容\"+str(x),\"时间\"+str(x),\"转发\"+str(x),\"评论\"+str(x),\"点赞\"+str(x)]\n",
    "    all_data = pd.DataFrame(all_data,columns = label)\n",
    "    return all_data"
   ]
  },
  {
   "cell_type": "code",
   "execution_count": 26,
   "metadata": {},
   "outputs": [],
   "source": [
    "driver.get(tempfile[\"url\"][0]+\"?is_hot=1\")"
   ]
  },
  {
   "cell_type": "code",
   "execution_count": 27,
   "metadata": {},
   "outputs": [],
   "source": [
    "scroll_down(driver)\n",
    "expand_all(driver)"
   ]
  },
  {
   "cell_type": "code",
   "execution_count": 28,
   "metadata": {},
   "outputs": [
    {
     "data": {
      "text/plain": [
       "['时代少年团超话 2035是这young 带着对2035年的期待 把奋斗当做信仰 一起书写未来的华章 @时代少年团 L时代少年团 2035是这young 官方MV',\n",
       " '敲娱的直播间 惊喜上线 小鹅邀你云看剧 @腾讯视频 独家直播 北京电影学院2017级 表演本科戏剧班毕业大戏 大宅门 1月4日 1月8日 每晚19 00带你直击精彩 郝富申超话 王俊凯超话 王子奇超话等优秀准毕业生用心呈现百年风云大宅门 不见不散 腾讯视频内搜索账号 明星舞台剧校园限定 观看直播哦 d',\n",
       " '扫黑风暴预告 扫黑风暴杀青 由@孙红雷 @努力努力再努力x @刘奕君actor 领衔主演 @吴越 @王志飞 @刘之冰 @吴晓亮 主演 @江疏影 特别出演的 电视剧扫黑风暴 发布杀青特辑 用心还原真实的案件与历程 品质导演与实力主创强强联合 打磨精品传递正义力量 扫黑风暴高能来袭 @腾讯视频 全网独播 敬请期待 L 扫黑风暴 杀青特辑 孙红雷张艺兴刘奕君组 d',\n",
       " '鹅娘摇篮曲 心有磐石山有林天有烟雨风有云弓箭有弦难为琴秋风画扇笛声轻今生君恩还不尽愿有来生化春泥雁过无痕风有情生死两忘江湖里 痴情冢 @邓伦 L邓伦倾情献声 痴情冢 诠释生死知己双向守护 d',\n",
       " '王一博超话 不被世界改变的@UNIQ 王一博 沉浸在自己的爱好里 做自己热爱的事 感觉被关注的越来越多 更要时刻提醒自己做得越来越好 尽自己可能做到最好 王一博 没有一瞬间打过退堂鼓 L腾讯视频的微博视频',\n",
       " '鞠婧祎新歌试听 风中的小小尘埃 将过往独一记载@鞠婧祎 全新单曲 过去完成时 最新预告来袭 期待正式音源和MV的上线 鞠婧祎过去完成时 L腾讯视频的微博视频',\n",
       " '赵丽颖超话 @赵丽颖 比鲜花还要温柔明媚的是你的笑容 一个微笑就让人无比期待春天的到来',\n",
       " '听见她说 她的诞生是为了这个世界的爱与和平 她的幸福是为他人带来愉快 她满足最多人的需求 从不抱怨 24小时随叫随到 是谁创造了 完美女孩 这种 完美 是馈赠还是伤害 明天中午12点 演员@杨幂 独白AI小爱内心世界 杨幂完美女孩剧照',\n",
       " '令人心动的offer 从录制过程看到实习生们吃什么都想来波 云分享 到直接脑补观察室里瓜子火锅通通安排上 加油团的脑洞随着凹佛进程也是越来越丰富 还有@范丞丞Adam0616 心心念念的一把沙发 @卡布叻_周深 已经开始畅想火锅局里肉的质感问题 一提到美食大家也是过于上头了 L花絮 吃货加油团要求演播室加火锅 d',\n",
       " '鹅娘侃侃聊 假期这三天你都做了什么 记得定好明早的闹钟哦',\n",
       " '鹅娘morningcall 心向阳光 处处温暖@杨洋 早安 L腾讯视频的微博视频',\n",
       " '杨紫超话 @杨紫 让自己的生活充实又璀璨 充满力量',\n",
       " '侯明昊杨超越好甜 真的有被@侯明昊Neo 暖到 @杨超越 说自己表演不好 挡着镜头不让侯明昊看 小动作真怪甜的 侯明昊为了鼓励妹妹暖心的说 你特别好 侯明昊对杨超越说你特别好 L腾讯视频的微博视频',\n",
       " '新年新力量 魔熙先生 超能力修炼中 高能玩家@巧手神探周斐Felix 传授@罗云熙Leo 独门绝技 水面铺针 各位小伙伴不妨打盆水一起来试试 更多好玩游戏每周四12 00 来腾讯视频和罗云熙一起探索魔熙世界 L神奇 罗云熙竟能把针平铺在水面上',\n",
       " '周杰伦王俊凯首次电影合作 @TFBOYS 王俊凯 特别出演由周杰伦监制 刘畊宏出品的赛车电影 叱咤风云 王俊凯赛车手造型酷拽十足 期待王俊凯少年k的荧幕表现',\n",
       " '刘亦菲超话 @刘亦菲 真实公主戴王冠现场图流出 速看',\n",
       " '吴宣仪超话 @吴宣仪_Betty 跨年演唱会彩排版来啦 每一秒都在闪闪发光呀 L腾讯视频的微博视频',\n",
       " '朱一龙超话 @朱一龙 温柔才是最强大的力量 让人觉得安稳',\n",
       " '令人心动的offer超话录制候场时间 皮皮丞 @范丞丞Adam0616 悄悄藏身于摄像大哥的行列 开始玩转滑轨手动加速 短短时间内技术逐渐熟练 还激发了@杨天真老板 的综艺新灵感 沉浸在滑轨世界玩得不亦乐乎的福西西 看起来只有三岁不能再多了 令人心动的offer L花絮 范丞丞玩滑轨秒变摄像大哥 d',\n",
       " '李易峰氛围感烟花大片 李易峰超话 @李易峰 站在黑夜的边缘 却能看到最璀璨的星光 那是你的眼睛',\n",
       " '夏之光配音宫心计 @R1SE 夏之光 生日doki直播配音 宫心计 这段也太好笑了吧本来前面一人分饰两角一秒入戏 怎么突如其来就上了B BOXL夏之光一人分饰两角配音宫心计 现场展现B Bo',\n",
       " '王俊凯好野 @TFBOYS 王俊凯 眼神好带感 精致清瘦的下颌线 穿砍袖好苏 好有狼崽的感觉 手臂肌肉线条好性感 王俊凯手臂肌肉线条',\n",
       " '小企鹅送福利 新年第一个工作日 小鹅来送福利啦 转发告诉鹅你最期待2021年在鹅家看到哪一部作品 就有机会抱走这个可爱的手工机械月历 黑夜与人间烟火 L腾讯视频的微博视频',\n",
       " '张艺兴动作戏 好帅 扫黑风暴预告 里几场动作戏都行云流水 张艺兴警察造型 太可啦 @努力努力再努力x',\n",
       " '@Dear 迪丽热巴 迪丽热巴超话 这就是绝美女明星啊',\n",
       " '迪丽热巴超话 星光大赏售后第一弹 妞妞子带着仙女的超绝独家后台图来了 一颦一笑皆成画 天生女明星 说的就是@Dear 迪丽热巴 本人吧',\n",
       " '王一博我的世界守则 花絮照 也太好看了吧 领了立马走进@UNIQ 王一博 的世界 王一博超话',\n",
       " '朱正廷梦境大片 @THEO 朱正廷 2021开年封时尚大片发布 超大宫廷式毛线帽 裙子西装尖皮鞋 俨然一副迪士尼在逃公子即视感 正正的这组大片太可了 朱正廷开年首封',\n",
       " '2021送你一朵小红花 @TFBOYS 易烊千玺 @刘浩存 主演的 送你一朵小红花 上映第四天 总票房已破7亿元 太棒啦',\n",
       " '夏之光 熠熠廿一如晟锦期 夏之光0104生日快乐 前路坦荡 万事如愿经历世事 不失勇气不负众望 不负热爱@R1SE 夏之光 生日快乐',\n",
       " '谢允后空翻好帅 飞檐走壁 后空翻 谢允少侠一套动作赏心悦目@UNIQ 王一博 L 有翡 独家花絮 飞天小可爱允允子保持帅气',\n",
       " '午睡留声机首支MV 等不到午睡时间 一起来听 我想跟你一起浪费时间 @午睡留声机乐团 L腾讯视频的微博视频',\n",
       " '小红花里的母子尴尬瞬间 韦一航 @TFBOYS 易烊千玺 我的妈妈什么都会 就是不会敲门 妈妈 @朱媛媛 我懂 2021送你一朵小红花 L腾讯视频的微博视频',\n",
       " '唐嫣超话 @唐嫣 美糖自己化妆也太好看了吧 果然人美就是怎样都美 能期待一个美妆vlog吗',\n",
       " '蒋梦婕打王者被李现嫌弃 @蒋梦婕 自曝私下里喜欢打王者 还排出了自己心目中圈内王者打得好和玩得烂的顺位 身为王者代言人的@李现ing 也是真的很严格 来看看他怎么对@吴昕 和蒋梦婕就知道辽梦婕内心os 是我不配吗 Beauty小姐 L蒋梦婕最强王者十五星 竟然被李现嫌弃了',\n",
       " '有翡剧照 从未觉得你是累赘 只愿此生护你周全 @赵丽颖 @UNIQ 王一博 电视剧有翡',\n",
       " '狼殿下 剧组人均金句王实锤有 搞怪口音的摘星 自称 汗王 的疾冲 自创新词的宝娜 到底谁才是片场金句王呢 L 狼殿下 花絮 剧组人均金句王',\n",
       " '周翡台词好燃 单枪匹马无惧 直面生死无悔 在周翡@赵丽颖 眼中 大义是竭尽全力后的无愧于心 是我命由我不由天的一腔孤勇 电视剧有翡',\n",
       " '谢允喂周翡吃糯米鸭 谢允@UNIQ 王一博 因为一只糯米鸭吃醋 认清了自己对周翡@赵丽颖 的心 也终于决定不再逃跑了 谢允吃醋 L吃情敌的醋 谢允亲手做糯米鸭投喂阿翡',\n",
       " '宋茜超话 宋茜蛇尾眼妆 宋茜红秀封面 @宋茜 最新时尚大片造型 波纹黑发搭配蛇尾眼妆 凌冽的眼神增添冷感魅惑 2021年期待宋茜百变风格新解锁',\n",
       " '郑爽超话 @郑爽SZ 禁塑公益主题大片 用行动表达对公益道路的坚持之心 用美的创意来诠释环保的理念',\n",
       " '郑爽超话 开年刊预告 自在 随性 神秘 多彩 你了解小爽真实的内心世界吗 @郑爽SZ L腾讯视频的微博视频',\n",
       " '周翡扑倒谢允 周翡@赵丽颖 被帘子绊住 谢允@UNIQ 王一博 顺势抱住阿翡一起摔倒 不知道谢允这是贴心还是私心呢 电视剧有翡 L周翡谢允上演甜蜜扑倒抱 允翡夫妇真锁 死 了',\n",
       " '王嘉尔超话 @王嘉尔 此时此刻 每时每刻 都非常帅 摸着带着细微胡茬的下巴 太撩了 L腾讯视频的微博视频',\n",
       " '蒋梦婕说杨洋是最长情的朋友 在圈内人缘超好的@蒋梦婕 来到 Beauty小姐 也免不了被昕姐@吴昕 进行友情考验 当被问及 最长情的朋友 时 桃子果断说出了@杨洋 的名字虽然距离 红楼梦 相识已经十几年过去了 但两人无论在人生哪个阶段还都能保持始终如一的友情 真是太令人羡慕了 L蒋梦婕谈交友观 称杨洋是最长情的朋友 d',\n",
       " '陈伟霆超话 @William威廉陈伟霆 跨年演唱会全纪录 能量满满的饱饱 给你的新一年注入更多元气 L腾讯视频的微博视频']"
      ]
     },
     "execution_count": 28,
     "metadata": {},
     "output_type": "execute_result"
    }
   ],
   "source": [
    "[clean_weibo_content(i.getText()) for i in soup.select(\"div.WB_frame_c div.WB_detail div.WB_text\") if (i.get(\"style\") is None) or (\"display: none\" not in i.get(\"style\"))]"
   ]
  },
  {
   "cell_type": "code",
   "execution_count": 25,
   "metadata": {},
   "outputs": [
    {
     "name": "stdout",
     "output_type": "stream",
     "text": [
      "Timeout\n",
      "Timeout\n",
      "Timeout\n",
      "Timeout\n"
     ]
    }
   ],
   "source": [
    "data = collect_weibo(driver,tempfile)"
   ]
  },
  {
   "cell_type": "code",
   "execution_count": 29,
   "metadata": {},
   "outputs": [],
   "source": [
    "data.to_csv(\"sinaCLEANcontent.csv\", index=False, encoding='utf-8-sig')"
   ]
  },
  {
   "cell_type": "code",
   "execution_count": 54,
   "metadata": {},
   "outputs": [],
   "source": [
    "driver.get(\"https://weibo.com\")\n",
    "with open(cookieFile, \"wb\") as outFile:\n",
    "    pickle.dump(driver.get_cookies(), outFile)\n",
    "\n",
    "driver.close()"
   ]
  }
 ],
 "metadata": {
  "kernelspec": {
   "display_name": "Python 3",
   "language": "python",
   "name": "python3"
  },
  "language_info": {
   "codemirror_mode": {
    "name": "ipython",
    "version": 3
   },
   "file_extension": ".py",
   "mimetype": "text/x-python",
   "name": "python",
   "nbconvert_exporter": "python",
   "pygments_lexer": "ipython3",
   "version": "3.8.3"
  }
 },
 "nbformat": 4,
 "nbformat_minor": 4
}
